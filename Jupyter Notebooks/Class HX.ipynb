{
 "cells": [
  {
   "cell_type": "code",
   "execution_count": 1,
   "id": "10493c6d",
   "metadata": {},
   "outputs": [
    {
     "data": {
      "text/plain": [
       "<Figure size 1000x600 with 2 Axes>"
      ]
     },
     "metadata": {},
     "output_type": "display_data"
    },
    {
     "data": {
      "text/plain": [
       "<Figure size 1000x600 with 1 Axes>"
      ]
     },
     "metadata": {},
     "output_type": "display_data"
    }
   ],
   "source": [
    "import numpy as np\n",
    "import matplotlib.pyplot as plt\n",
    "import pandas as pd\n",
    "import pvlib as pv\n",
    "import CoolProp.CoolProp as CP\n",
    "import warnings\n",
    "from scipy import interpolate\n",
    "from simulation_functions import corr_exp_solar, Irradiance_2,State"
   ]
  },
  {
   "cell_type": "code",
   "execution_count": 11,
   "id": "90ca1ded",
   "metadata": {},
   "outputs": [],
   "source": [
    "class Heat_exchanger:\n",
    "    \n",
    "    def __init__(self,eff,HX_type=None): \n",
    "        \n",
    "        '''\n",
    "        Heat exchanger's constructor function\n",
    "        '''\n",
    "        self.eff=eff\n",
    "        self.HX_type=HX_type\n",
    "        \n",
    "        \n",
    "    def State_out_calculus(self,m_hot,State_hot_in,m_cold,State_cold_in,P_loss_hot=0,P_loss_cold=0):\n",
    "        \n",
    "        '''\n",
    "        Function to calculate the fluid's state variables at the hot and cold outlet of \n",
    "        a heat exchanger given two mass flows.\n",
    "        \n",
    "        Parameters:\n",
    "        ---------\n",
    "            -m_hot\n",
    "            -\n",
    "            -\n",
    "            -\n",
    "        \n",
    "        Outputs:\n",
    "        ---------\n",
    "            -\n",
    "            -\n",
    "        '''\n",
    "        \n",
    "        T_hot_in=State_hot_in['T']    # Temperature at the hot side's inlet\n",
    "        T_cold_in=State_cold_in['T']  # Temperature at the cold side's inlet\n",
    "        \n",
    "        h_hot_in=State_hot_in['H']    # Temperature at the hot side's inlet\n",
    "        h_cold_in=State_cold_in['H']  # Temperature at the cold side's inlet\n",
    "        \n",
    "        P_hot_out=State_hot_in['P']-P_loss_hot    # Pressure at the hot side's outlet\n",
    "        P_cold_out=State_cold_in['P']-P_loss_cold # Pressure at the cold side's outlet\n",
    "        \n",
    "        cp_hot=State_hot_in['C']   # Specific heat capacity at the hot side's inlet  \n",
    "        cp_cold=State_cold_in['C'] # Specific heat capacity at the cold side's inlet\n",
    "        \n",
    "        fluid_hot=State_hot_in['fluid']   # Fluid at the hot side\n",
    "        fluid_cold=State_cold_in['fluid'] # Fluid at the cold side\n",
    "\n",
    "        \n",
    "        it=0 #iteration counter\n",
    "        \n",
    "        while True: # Iteration loop for the specific heat capacity at hot and cold sides\n",
    "        \n",
    "            C_hot=cp_hot*m_hot    # Product between specific heat capacity and mass flow of the hot side\n",
    "            C_cold=cp_cold*m_cold # Product between specific heat capacity and mass flow of the cold side\n",
    "\n",
    "            C_min=min(C_cold,C_hot) # Minimum value of C\n",
    "\n",
    "            q=self.eff*C_min*(T_hot_in-T_cold_in) # Transfered heat in the heat exchanger\n",
    "            \n",
    "            m_list=[m_hot,m_cold]\n",
    "            C_list=[C_hot,C_cold]\n",
    "            q_h=self.eff*m_list[C_list.index(min(C_list))]*(h_hot_in-h_cold_in)\n",
    "\n",
    "            T_hot_out=T_hot_in-q/C_hot     # Temperature at the hot side's outlet\n",
    "            T_cold_out= T_cold_in+q/C_cold # Temperature at the cold side's outlet\n",
    "        \n",
    "            \n",
    "            State_hot_out=State(fluid_hot,'P',P_hot_out,'T',T_hot_out)     # Variables of state at the hot side's outlet\n",
    "            State_cold_out=State(fluid_cold,'P',P_cold_out,'T',T_cold_out) # Variables of state at the hot side's outlet\n",
    "            \n",
    "\n",
    "            err_hot=(State_hot_out['C']-cp_hot)/State_hot_out['C']*100     # Porcentual error of the cp used at the hot side\n",
    "            err_cold=(State_cold_out['C']-cp_cold)/State_cold_out['C']*100 # Porcentual error of the cp used at the cold side\n",
    "            \n",
    "            if (np.abs(err_hot)<0.1 and np.abs(err_cold)<0.1) or it>=200:  #Criteria for quit the loop\n",
    "\n",
    "                break\n",
    "\n",
    "            else:\n",
    "                it+=1\n",
    "                cp_hot=(cp_hot+State_hot_out['C'])/2    # New specific heat capacity at the hot side\n",
    "                cp_cold=(cp_cold+State_cold_out['C'])/2 # New specific heat capacity at the cold side\n",
    "        \n",
    "        return State_hot_out,State_cold_out\n",
    "        return {'State_hot_out':State_hot_out,'State_cold_out':State_cold_out}"
   ]
  },
  {
   "cell_type": "code",
   "execution_count": 518,
   "id": "a773db8a",
   "metadata": {},
   "outputs": [],
   "source": [
    "class Heat_exchanger:\n",
    "    \n",
    "    def __init__(self,eff,HX_type=None): \n",
    "        \n",
    "        '''\n",
    "        Heat exchanger's constructor function\n",
    "        '''\n",
    "        self.eff=eff\n",
    "        self.HX_type=HX_type\n",
    "        \n",
    "        \n",
    "    def State_out_calculus(self,m_hot,State_hot_in,m_cold,State_cold_in,P_loss_hot=0,P_loss_cold=0):\n",
    "        \n",
    "        '''\n",
    "        Function to calculate the fluid's state variables at the hot and cold outlet of \n",
    "        a heat exchanger given two mass flows.\n",
    "        \n",
    "        Parameters:\n",
    "        ---------\n",
    "            -m_hot\n",
    "            -\n",
    "            -\n",
    "            -\n",
    "        \n",
    "        Outputs:\n",
    "        ---------\n",
    "            -\n",
    "            -\n",
    "        '''\n",
    "        T_hot_in=State_hot_in['T']    # Temperature at the hot side's inlet\n",
    "        T_cold_in=State_cold_in['T']  # Temperature at the cold side's inlet\n",
    "        \n",
    "        h_hot_in=State_hot_in['H']    # Temperature at the hot side's inlet\n",
    "        h_cold_in=State_cold_in['H']  # Temperature at the cold side's inlet\n",
    "        \n",
    "        P_hot_out=State_hot_in['P']-P_loss_hot    # Pressure at the hot side's outlet\n",
    "        P_cold_out=State_cold_in['P']-P_loss_cold # Pressure at the cold side's outlet\n",
    "        \n",
    "        cp_hot=State_hot_in['C']   # Specific heat capacity at the hot side's inlet  \n",
    "        cp_cold=State_cold_in['C'] # Specific heat capacity at the cold side's inlet\n",
    "        \n",
    "        fluid_hot=State_hot_in['fluid']   # Fluid at the hot side\n",
    "        fluid_cold=State_cold_in['fluid'] # Fluid at the cold side\n",
    "        \n",
    "        it=0 #iteration counter\n",
    "        \n",
    "        while True: # Iteration loop for the specific heat capacity at hot and cold sides\n",
    "            print(it)\n",
    "        \n",
    "            C_hot=cp_hot*m_hot    # Product between specific heat capacity and mass flow of the hot side\n",
    "            C_cold=cp_cold*m_cold # Product between specific heat capacity and mass flow of the cold side\n",
    "            \n",
    "            m_list=[m_hot,m_cold]\n",
    "            C_list=[C_hot,C_cold]\n",
    "            \n",
    "            q=self.eff*m_list[C_list.index(min(C_list))]*(h_hot_in-h_cold_in)\n",
    "            \n",
    "            C_min=min(C_cold,C_hot) # Minimum value of C\n",
    "\n",
    "            q=self.eff*C_min*(T_hot_in-T_cold_in) # Transfered heat in the heat exchanger\n",
    "\n",
    "            h_hot_out=h_hot_in-q/m_hot     # Temperature at the hot side's outlet\n",
    "            \n",
    "            h_cold_out= h_cold_in+q/m_cold # Temperature at the cold side's outlet\n",
    "            \n",
    "            State_hot_out=State(fluid_hot,'P',P_hot_out,'H',h_hot_out)     # Variables of state at the hot side's outlet\n",
    "            State_cold_out=State(fluid_cold,'P',P_cold_out,'H',h_cold_out) # Variables of state at the hot side's outlet\n",
    "            \n",
    "            err_hot=(State_hot_out['C']-cp_hot)/State_hot_out['C']*100     # Porcentual error of the cp used at the hot side\n",
    "            err_cold=(State_cold_out['C']-cp_cold)/State_cold_out['C']*100 # Porcentual error of the cp used at the cold side\n",
    "            \n",
    "            print(err_cold,err_hot)\n",
    "            if (np.abs(err_hot)<0.1 and np.abs(err_cold)<0.1) or it>=200:  #Criteria for quit the loop\n",
    "\n",
    "                break\n",
    "\n",
    "            else:\n",
    "                it+=1\n",
    "                cp_hot=(cp_hot+State_hot_out['C'])/2    # New specific heat capacity at the hot side\n",
    "                cp_cold=(cp_cold+State_cold_out['C'])/2 # New specific heat capacity at the cold side        \n",
    "                \n",
    "                #cp_hot=State_hot_out['C']    # New specific heat capacity at the hot side\n",
    "                #cp_cold=State_cold_out['C'] # New specific heat capacity at the cold side\n",
    "        print(q)\n",
    "        \n",
    "        \n",
    "        return State_hot_out,State_cold_out\n",
    "        return {'State_hot_out':State_hot_out,'State_cold_out':State_cold_out}"
   ]
  },
  {
   "cell_type": "markdown",
   "id": "6b5b0f20",
   "metadata": {},
   "source": [
    "# Example of using the Heat exchanger class"
   ]
  },
  {
   "cell_type": "markdown",
   "id": "133e61c4",
   "metadata": {},
   "source": [
    "## Define a heat exchanger"
   ]
  },
  {
   "cell_type": "code",
   "execution_count": 28,
   "id": "d66f1c17",
   "metadata": {},
   "outputs": [],
   "source": [
    "HX=Heat_exchanger(0.8) #heat exchanger with an effectiveness of 66%"
   ]
  },
  {
   "cell_type": "markdown",
   "id": "90e4ba95",
   "metadata": {},
   "source": [
    "## Mass flows and states at the inlet"
   ]
  },
  {
   "cell_type": "code",
   "execution_count": 29,
   "id": "d3ad044e",
   "metadata": {},
   "outputs": [],
   "source": [
    "State_hot_in=State('water','P',1,'T',90)\n",
    "m_hot=1\n",
    "State_cold_in=State('water','P',1,'T',10)\n",
    "m_cold=1"
   ]
  },
  {
   "cell_type": "code",
   "execution_count": 30,
   "id": "b137c435",
   "metadata": {},
   "outputs": [],
   "source": [
    "Hot_side_out,Cold_side_out=HX.State_out_calculus(m_hot=m_hot,State_hot_in=State_hot_in,m_cold=m_cold,State_cold_in=State_cold_in)"
   ]
  },
  {
   "cell_type": "code",
   "execution_count": 31,
   "id": "a58c96b5",
   "metadata": {},
   "outputs": [
    {
     "data": {
      "text/plain": [
       "{'fluid': 'water',\n",
       " 'T': 26.0,\n",
       " 'P': 1.0,\n",
       " 'H': 109.10001417828873,\n",
       " 'Q': -1.0,\n",
       " 'S': 0.3812000689564361,\n",
       " 'C': 4.180931839206961,\n",
       " 'U': 108.99969172018712,\n",
       " 'D': 996.7857755955705}"
      ]
     },
     "execution_count": 31,
     "metadata": {},
     "output_type": "execute_result"
    }
   ],
   "source": [
    "Hot_side_out"
   ]
  },
  {
   "cell_type": "code",
   "execution_count": 32,
   "id": "2176b2b0",
   "metadata": {},
   "outputs": [
    {
     "data": {
      "text/plain": [
       "{'fluid': 'water',\n",
       " 'T': 73.86443175479553,\n",
       " 'P': 1.0,\n",
       " 'H': 309.31823502681124,\n",
       " 'Q': -1.0,\n",
       " 'S': 1.0020278692803348,\n",
       " 'C': 4.192458608447658,\n",
       " 'U': 309.21572533103193,\n",
       " 'D': 975.5174790870064}"
      ]
     },
     "execution_count": 32,
     "metadata": {},
     "output_type": "execute_result"
    }
   ],
   "source": [
    "Cold_side_out"
   ]
  },
  {
   "cell_type": "code",
   "execution_count": null,
   "id": "5788c07a",
   "metadata": {},
   "outputs": [],
   "source": []
  }
 ],
 "metadata": {
  "kernelspec": {
   "display_name": "Python 3",
   "language": "python",
   "name": "python3"
  },
  "language_info": {
   "codemirror_mode": {
    "name": "ipython",
    "version": 3
   },
   "file_extension": ".py",
   "mimetype": "text/x-python",
   "name": "python",
   "nbconvert_exporter": "python",
   "pygments_lexer": "ipython3",
   "version": "3.7.3"
  }
 },
 "nbformat": 4,
 "nbformat_minor": 5
}

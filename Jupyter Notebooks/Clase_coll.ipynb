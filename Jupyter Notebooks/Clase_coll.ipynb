{
 "cells": [
  {
   "cell_type": "code",
   "execution_count": 14,
   "id": "aed38011",
   "metadata": {},
   "outputs": [],
   "source": [
    "import numpy as np\n",
    "import matplotlib.pyplot as plt\n",
    "import pandas as pd\n",
    "import pvlib as pv\n",
    "import CoolProp.CoolProp as CP\n",
    "import warnings\n",
    "from scipy import interpolate\n",
    "from simulation_functions import corr_exp_solar, Irradiance_2,State"
   ]
  },
  {
   "cell_type": "code",
   "execution_count": null,
   "id": "0e798f25",
   "metadata": {},
   "outputs": [],
   "source": []
  },
  {
   "cell_type": "code",
   "execution_count": 4,
   "id": "a81f87b9",
   "metadata": {},
   "outputs": [],
   "source": [
    "class Collector():\n",
    "    'Class '\n",
    "    \n",
    "    def __init__(self,coll_parameters):\n",
    "        \n",
    "        '''Collector´s constructor function'''\n",
    "        \n",
    "        self.L=coll_parameters['L']                      #Collector´s length, m\n",
    "        self.W=coll_parameters['W']                      #Collector´s width, m \n",
    "        self.n0=coll_parameters['n0']                    #Collector's optical efficiency\n",
    "        self.a1=coll_parameters['a1']                    #Collector's linear thermal loss coefficient, W/(m^2*K)\n",
    "        self.a2=coll_parameters['a2']                    #Collector's quadratic thermal loss coefficient,  W/(m^2*K^2)\n",
    "        self.price=coll_parameters['price']              #Collector´s price, $CLP\n",
    "        self.A=coll_parameters['L']*coll_parameters['W'] #Collector´s aperture area, m^2\n",
    "        \n",
    "    def n_CP(self,T,T_amb,G=1000):\n",
    "        '''\n",
    "        Function that calculates the efficiency of a solar thermal collector considering the losses to the ambient.\n",
    "\n",
    "        Inputs: \n",
    "        -----------\n",
    "            -T : Fluid´s inlet temperature to the collector, °C\n",
    "            -Tm: Ambien temperature, °C\n",
    "            -G : Solar radiation, W/m2\n",
    "\n",
    "        Output:\n",
    "        ----------\n",
    "            -n: Collector's efficiency\n",
    "        '''\n",
    "\n",
    "        if G==0:\n",
    "            return 0\n",
    "        else:\n",
    "            n=self.n0-(T-T_amb)*self.a1/G-self.a2*((T-T_amb)**2)/G\n",
    "            return n\n",
    "    \n",
    "    def Salto_Temp(self,m_col,G,cp,T,T_amb):\n",
    "        '''\n",
    "        Funtion that calculates the temperature difference between the outlet and the inlet of the collector.\n",
    "\n",
    "        -Inputs:\n",
    "        ------------\n",
    "            -m   :Mass flow of fluid entering the collector, kg/s\n",
    "            -eta :Collector's efficiency\n",
    "            -G   :Irradiance at tilted collector surface area, W/m2\n",
    "            -A   :Collector´s aperture area, m2\n",
    "            -cp  :Fluid´s specific heat at constat pressure, kJ/(kg*K)\n",
    "\n",
    "        -Outputs:\n",
    "        ------------\n",
    "            -Salto_T: Temperature difference between the outlet and the inlet of the collector , °C\n",
    "        '''\n",
    "        eta=self.n_CP(T,T_amb)\n",
    "        Salto_T=G*eta*self.A/m_col/cp/1000\n",
    "        return Salto_T"
   ]
  },
  {
   "cell_type": "code",
   "execution_count": null,
   "id": "1a8b5960",
   "metadata": {},
   "outputs": [],
   "source": []
  },
  {
   "cell_type": "code",
   "execution_count": 5,
   "id": "6a8bf613",
   "metadata": {},
   "outputs": [],
   "source": [
    "def Solar_field_construction(N_rows,N_col,Coll_parameters):\n",
    "    \n",
    "    '''\n",
    "    Funtion that define a solar field based on the number of rows connected\n",
    "    in parallel and the number of collector´s conected in series in each row\n",
    "    \n",
    "    Inputs:\n",
    "    --------\n",
    "        -N_rows         : Number of rows conected in parallel in the solar field\n",
    "        -N_col          : Number of collectors that are conected in series in each row\n",
    "        -Coll_parameters: Dictionary that contains the parameters of one single collector:{'L':Lenght [m],'W':width [m],'n0':Optical efficiency,\n",
    "                                                                                            'a1':Linear thermal loss coefficient [W/(m^2*K)],\n",
    "                                                                                            'a2':quadratic thermal loss coefficient [W/(m^2*K^2)],\n",
    "                                                                                            'price':price}     \n",
    "                                                                                            \n",
    "    Outputs:\n",
    "    ---------\n",
    "        solar_field: Dictionary that contains all the collectors and the number of rows and columns\n",
    "    '''\n",
    "    \n",
    "    solar_field={'N_rows':N_rows,'N_col':N_col} #Creates a dictionary to fill with collectors\n",
    "    \n",
    "    for row in range(1,N_rows+1):    # Loop to go trowh the number of rows \n",
    "        for col in range(1,N_col+1): # Loop to go trowh the number of columns\n",
    "            \n",
    "            solar_field[f'Coll_{row}_{col}']=Collector(Coll_parameters) #Creates each collector wit the name: \n",
    "                                                                        #\"Coll_{row number}_{column number}\"\n",
    "            \n",
    "    return solar_field\n",
    "\n",
    "def Solar_field_operation(solar_field,m_field,state_in,hour,Climate_Data):\n",
    "    '''\n",
    "    Function that calculates the output state of a fluid that enters a solar field. \n",
    "    \n",
    "    Inputs:\n",
    "    ------\n",
    "        -solar_field : Dictionary that contains all the collectors of the solar field and the numer of rows and columns\n",
    "        -m_field     : Mass flow of fluid entering the solar field, kg/s\n",
    "        -state_in    : Dictionary that contains fluid's state variables entering the collector field. This dictanary\n",
    "                       can be created using the function State().\n",
    "        -hour        : Hour of the year that the simulation is being perform.\n",
    "        -Climate_Data: Pandas dataframe that contains the climate file parameters: 'Year', 'Month', 'Day', 'Hour', \n",
    "                       'Minute', 'GHI', 'DNI', 'DHI', 'Tdry','Tdew', 'RH', 'Pres', 'Wspd', 'Wdir', 'Snow Depth'.\n",
    "                      \n",
    "    Outputs:\n",
    "    ------\n",
    "        -state_out: Dictionary that contains the fluid´s state variables at the outlet of the solar field\n",
    "    '''\n",
    "    \n",
    "    N_rows=solar_field['N_rows']\n",
    "    N_col=solar_field['N_col']\n",
    "    m_rows=m_field/N_rows #Uniformly distributed the mass flow of the field in each row\n",
    "\n",
    "    h_out_rows=np.zeros(N_rows) #Empty array for the outlet  specific enthalpy of each row \n",
    "    P_field=state_in['P'] #Saves the pressure of the field \n",
    "    \n",
    "    for row in range(1,N_rows+1):    # Loop to go trowh the number of rows \n",
    "        for col in range(1,N_col+1): # Loop to go trowh the number of columns\n",
    "            \n",
    "            if row!=1:  #Makes the distition if the row is not the first one (the most north located). This is to consider\n",
    "                        #the radiation losses caused by the self shading of the field. \n",
    "                \n",
    "                T_col_in=state_in['T']                                #Fluid's temperature at the collector's inlet\n",
    "                cp=state_in['C']                                      #Fluid's specific heat at the collector's inlet\n",
    "                G=Climate_Data['DNI'][hour]+Climate_Data['DHI'][hour] #Value of the solar radiation at the collector's tilted surface,\n",
    "                                                                      #take in consideration the self shading caused by the other rows\n",
    "                T_amb=Climate_Data['Tdry'][hour]                      #Dry bulb temperature \n",
    "                \n",
    "                Delta_T=solar_field[f'Coll_{row}_{col}'].Salto_Temp(m_col=m_rows,G=G, #Calculus of the temperature\n",
    "                                                                    cp=cp,T=T_col_in, #difference between the inlet\n",
    "                                                                    T_amb=T_amb)      #and the outlet of the solar field\n",
    "                \n",
    "                T_col_out=T_col_in+Delta_T            #Fluid's temperature a the collector's outlet\n",
    "                state_in=State(state_in['fluid'],'T', #Fludi's state at the collector's outlet\n",
    "                               T_col_out,'P',P_field) #\n",
    "                \n",
    "            else:\n",
    "                T_col_in=state_in['T']                                #Fluid's temperature at the collector's inlet\n",
    "                cp=state_in['C']                                      #Fluid's specific heat at the collector's inlet\n",
    "                G=Climate_Data['DNI'][hour]+Climate_Data['DHI'][hour] #Value of the solar radiation at the collector's tilted surface\n",
    "                T_amb=Climate_Data['Tdry'][hour]                      #Dry bulb temperature\n",
    "                \n",
    "                Delta_T=solar_field[f'Coll_{row}_{col}'].Salto_Temp(m_col=m_rows,G=G,  #Calculus of the temperature\n",
    "                                                                    cp=cp,T=T_col_in,  #difference between the inlet\n",
    "                                                                    T_amb=T_amb)       #and the outlet of the solar field\n",
    "                \n",
    "                T_col_out=T_col_in+Delta_T            #Fluid's temperature a the collector's outlet\n",
    "                state_in=State(state_in['fluid'],'T', #Fludi's state at the collector's outlet\n",
    "                               T_col_out,'P',P_field) #\n",
    "        \n",
    "        h_out_rows[row-1]=state_in['H'] #Array that contains the fluid's speficic enthalpy at the end of each row \n",
    "    \n",
    "    h_out_field=np.sum(m_rows*h_out_rows)/(m_field)\n",
    "    state_out=State(state_in['fluid'],'H',h_out_field,'P',P_field)\n",
    "    return state_out\n",
    "    "
   ]
  },
  {
   "cell_type": "markdown",
   "id": "8660e4c1",
   "metadata": {},
   "source": [
    "# Example of the simulation at one single hour"
   ]
  },
  {
   "cell_type": "markdown",
   "id": "02c239c1",
   "metadata": {},
   "source": [
    "## Calculus and correction of the climate file"
   ]
  },
  {
   "cell_type": "code",
   "execution_count": 6,
   "id": "e56585ba",
   "metadata": {},
   "outputs": [],
   "source": [
    "latitude,longitude,UTC,DATA=corr_exp_solar(FILENAME='DHTMY_SAM_E_9H23YU.csv')\n",
    "DNI_corr,Diff_corr,Diff_ground_corr=Irradiance_2(latitude,longitude,UTC,DATA)\n",
    "DATA['DNI']=DNI_corr.values\n",
    "DATA['DHI']=Diff_corr+Diff_ground_corr"
   ]
  },
  {
   "cell_type": "markdown",
   "id": "b7962f06",
   "metadata": {},
   "source": [
    "## Creation of the solar field"
   ]
  },
  {
   "cell_type": "code",
   "execution_count": 7,
   "id": "523dfdd0",
   "metadata": {},
   "outputs": [],
   "source": [
    "coll_par={'L':2,'W':1,'n0':0.756,'a1':4.052,'a2':0.0138,'price':122}\n",
    "Solar_field=Solar_field_construction(N_rows=3,N_col=9,Coll_parameters=coll_par)"
   ]
  },
  {
   "cell_type": "markdown",
   "id": "e82cc187",
   "metadata": {},
   "source": [
    "## Simulation of one single hour"
   ]
  },
  {
   "cell_type": "code",
   "execution_count": 9,
   "id": "e539269c",
   "metadata": {},
   "outputs": [
    {
     "data": {
      "text/plain": [
       "{'fluid': 'water',\n",
       " 'T': 15.0,\n",
       " 'P': 1.0,\n",
       " 'H': 63.07556225654605,\n",
       " 'Q': -1.0,\n",
       " 'S': 0.22444852469326868,\n",
       " 'C': 4.188465152248932,\n",
       " 'U': 62.97547237597908,\n",
       " 'D': 999.1020028116644}"
      ]
     },
     "execution_count": 9,
     "metadata": {},
     "output_type": "execute_result"
    }
   ],
   "source": [
    "state_in=State('water','T',15,'P',1)\n",
    "state_in"
   ]
  },
  {
   "cell_type": "code",
   "execution_count": 13,
   "id": "e351813a",
   "metadata": {},
   "outputs": [
    {
     "data": {
      "text/plain": [
       "{'fluid': 'water',\n",
       " 'T': 41.32141894196661,\n",
       " 'P': 1.0,\n",
       " 'H': 173.13796319073765,\n",
       " 'Q': -1.0,\n",
       " 'S': 0.5899650900146258,\n",
       " 'C': 4.179559510300963,\n",
       " 'U': 173.03712663966004,\n",
       " 'D': 991.7038905611965}"
      ]
     },
     "execution_count": 13,
     "metadata": {},
     "output_type": "execute_result"
    }
   ],
   "source": [
    "hour=12\n",
    "Solar_field_operation(solar_field=Solar_field,m_field=50/3600*1.93*27,state_in=state_in,hour=hour,Climate_Data=DATA)"
   ]
  },
  {
   "cell_type": "code",
   "execution_count": null,
   "id": "75af9642",
   "metadata": {},
   "outputs": [],
   "source": []
  },
  {
   "cell_type": "code",
   "execution_count": null,
   "id": "ea2724e1",
   "metadata": {},
   "outputs": [],
   "source": []
  },
  {
   "cell_type": "code",
   "execution_count": null,
   "id": "bc240b15",
   "metadata": {},
   "outputs": [],
   "source": []
  }
 ],
 "metadata": {
  "kernelspec": {
   "display_name": "Python 3",
   "language": "python",
   "name": "python3"
  },
  "language_info": {
   "codemirror_mode": {
    "name": "ipython",
    "version": 3
   },
   "file_extension": ".py",
   "mimetype": "text/x-python",
   "name": "python",
   "nbconvert_exporter": "python",
   "pygments_lexer": "ipython3",
   "version": "3.7.3"
  }
 },
 "nbformat": 4,
 "nbformat_minor": 5
}
